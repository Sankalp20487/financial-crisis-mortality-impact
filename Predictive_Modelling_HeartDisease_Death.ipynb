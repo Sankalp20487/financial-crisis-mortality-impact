{
 "cells": [
  {
   "cell_type": "markdown",
   "metadata": {},
   "source": [
    "## Predicive Modelling"
   ]
  },
  {
   "cell_type": "markdown",
   "metadata": {},
   "source": [
    "### Loading Libraries"
   ]
  },
  {
   "cell_type": "code",
   "execution_count": 1,
   "metadata": {},
   "outputs": [],
   "source": [
    "import pandas as pd\n",
    "import matplotlib.pyplot as plt\n",
    "import numpy as np\n",
    "from statsmodels.tsa.statespace.sarimax import SARIMAX\n",
    "from sklearn.ensemble import RandomForestRegressor\n",
    "from sklearn.metrics import mean_squared_error, mean_absolute_error, r2_score\n",
    "from sklearn.model_selection import train_test_split\n",
    "import itertools\n",
    "import seaborn as sns\n",
    "\n",
    "\n",
    "import warnings\n",
    "warnings.filterwarnings(\"ignore\")"
   ]
  },
  {
   "cell_type": "markdown",
   "metadata": {},
   "source": [
    "### Time Frame of Different Data Files"
   ]
  },
  {
   "cell_type": "markdown",
   "metadata": {},
   "source": [
    "1. SP500 - 2007 - 2022\n",
    "2. Unemployment Rate - 2007 - 2024\n",
    "3. Inflation Data - 2005 - 2024\n",
    "4. Heart Disease Data - 2007 - 2022"
   ]
  },
  {
   "cell_type": "markdown",
   "metadata": {},
   "source": [
    "### Loading Data"
   ]
  },
  {
   "cell_type": "code",
   "execution_count": 2,
   "metadata": {},
   "outputs": [],
   "source": [
    "file_paths = {\n",
    "    \"sp500\": \"SP500_2007_2022.csv\",\n",
    "    \"unemployment\": \"US_monthly_unemployment_rate_from_2007to2024.csv\",\n",
    "    \"inflation\": \"US_monthly_inflation_rate_from_2005to2024.csv\",\n",
    "    \"heart_disease\": \"merged_df_heart_attack_2007to2022.csv\"\n",
    "}\n",
    "\n",
    "sp500_data = pd.read_csv(file_paths[\"sp500\"])\n",
    "unemployment_data = pd.read_csv(file_paths[\"unemployment\"])\n",
    "inflation_data = pd.read_csv(file_paths[\"inflation\"])\n",
    "heart_disease_data = pd.read_csv(file_paths[\"heart_disease\"])\n",
    "\n"
   ]
  },
  {
   "cell_type": "code",
   "execution_count": 3,
   "metadata": {},
   "outputs": [
    {
     "data": {
      "text/plain": [
       "array([2007, 2008, 2009, 2011, 2010, 2012, 2013, 2015, 2014, 2017, 2016,\n",
       "       2018, 2019, 2020, 2021, 2022])"
      ]
     },
     "execution_count": 3,
     "metadata": {},
     "output_type": "execute_result"
    }
   ],
   "source": [
    "heart_disease_data['Year'].unique()"
   ]
  },
  {
   "cell_type": "code",
   "execution_count": 4,
   "metadata": {},
   "outputs": [
    {
     "name": "stdout",
     "output_type": "stream",
     "text": [
      "SP500 Data Columns: Index(['Date', 'Adj Close', 'Close', 'High', 'Low', 'Open', 'Volume'], dtype='object')\n",
      "Unemployment Data Columns: Index(['DATE', 'UNEMPLOY_RATE'], dtype='object')\n",
      "Inflation Data Columns: Index(['Date', 'Inflation_rate', 'Unnamed: 2'], dtype='object')\n",
      "Heart Disease Data Columns: Index(['Notes', 'Five-Year Age Groups', 'Five-Year Age Groups Code', 'State',\n",
      "       'State Code', 'Month', 'Month Code', 'Cause of death',\n",
      "       'Cause of death Code', 'Deaths', 'Population', 'Crude Rate',\n",
      "       'Month_Name', 'Year'],\n",
      "      dtype='object')\n"
     ]
    }
   ],
   "source": [
    "# Display column names for verification\n",
    "print(\"SP500 Data Columns:\", sp500_data.columns)\n",
    "print(\"Unemployment Data Columns:\", unemployment_data.columns)\n",
    "print(\"Inflation Data Columns:\", inflation_data.columns)\n",
    "print(\"Heart Disease Data Columns:\", heart_disease_data.columns)"
   ]
  },
  {
   "cell_type": "markdown",
   "metadata": {},
   "source": [
    "### Cleaning Data"
   ]
  },
  {
   "cell_type": "markdown",
   "metadata": {},
   "source": [
    "* We'll standardize the column names for all the datasets for better interpretability"
   ]
  },
  {
   "cell_type": "code",
   "execution_count": 5,
   "metadata": {},
   "outputs": [
    {
     "name": "stdout",
     "output_type": "stream",
     "text": [
      "SP500 Data Columns: Index(['date', 'adj_close', 'close', 'high', 'low', 'open', 'volume'], dtype='object')\n",
      "Unemployment Data Columns: Index(['date', 'unemploy_rate'], dtype='object')\n",
      "Inflation Data Columns: Index(['date', 'inflation_rate', 'unnamed:_2'], dtype='object')\n",
      "Heart Disease Data Columns: Index(['notes', 'five_year_age_groups', 'five_year_age_groups_code', 'state',\n",
      "       'state_code', 'month', 'month_code', 'cause_of_death',\n",
      "       'cause_of_death_code', 'deaths', 'population', 'crude_rate',\n",
      "       'month_name', 'year'],\n",
      "      dtype='object')\n"
     ]
    }
   ],
   "source": [
    "# Function to standardize column names\n",
    "def standardize_columns(df):\n",
    "    df.columns = df.columns.str.strip().str.lower().str.replace(' ', '_').str.replace('-', '_').str.replace('.', '', regex=False)\n",
    "    return df\n",
    "\n",
    "# Standardize column names for all datasets\n",
    "sp500_data = standardize_columns(sp500_data)\n",
    "unemployment_data = standardize_columns(unemployment_data)\n",
    "inflation_data = standardize_columns(inflation_data)\n",
    "heart_disease_data = standardize_columns(heart_disease_data)\n",
    "\n",
    "# Display standardized column names for verification\n",
    "print(\"SP500 Data Columns:\", sp500_data.columns)\n",
    "print(\"Unemployment Data Columns:\", unemployment_data.columns)\n",
    "print(\"Inflation Data Columns:\", inflation_data.columns)\n",
    "print(\"Heart Disease Data Columns:\", heart_disease_data.columns)\n"
   ]
  },
  {
   "cell_type": "code",
   "execution_count": 6,
   "metadata": {},
   "outputs": [],
   "source": [
    "inflation_data.drop(['unnamed:_2'], axis=1, inplace=True)"
   ]
  },
  {
   "cell_type": "markdown",
   "metadata": {},
   "source": [
    "* Checking Data type of columns in `heart_disease_data`"
   ]
  },
  {
   "cell_type": "code",
   "execution_count": 7,
   "metadata": {},
   "outputs": [
    {
     "name": "stdout",
     "output_type": "stream",
     "text": [
      "<class 'pandas.core.frame.DataFrame'>\n",
      "RangeIndex: 70913 entries, 0 to 70912\n",
      "Data columns (total 14 columns):\n",
      " #   Column                     Non-Null Count  Dtype  \n",
      "---  ------                     --------------  -----  \n",
      " 0   notes                      0 non-null      float64\n",
      " 1   five_year_age_groups       70913 non-null  object \n",
      " 2   five_year_age_groups_code  70913 non-null  object \n",
      " 3   state                      70913 non-null  object \n",
      " 4   state_code                 70913 non-null  float64\n",
      " 5   month                      70913 non-null  object \n",
      " 6   month_code                 70913 non-null  object \n",
      " 7   cause_of_death             70913 non-null  object \n",
      " 8   cause_of_death_code        70913 non-null  object \n",
      " 9   deaths                     70913 non-null  float64\n",
      " 10  population                 70913 non-null  object \n",
      " 11  crude_rate                 70913 non-null  object \n",
      " 12  month_name                 70913 non-null  object \n",
      " 13  year                       70913 non-null  int64  \n",
      "dtypes: float64(3), int64(1), object(10)\n",
      "memory usage: 7.6+ MB\n"
     ]
    }
   ],
   "source": [
    "heart_disease_data.info()"
   ]
  },
  {
   "cell_type": "markdown",
   "metadata": {},
   "source": [
    "* Converting `year` and `month_Name` to appropriate format and creating a new variable `date` by combining these two columns. \n",
    "* We'll remove irrelevant columns such as `five_year_age_groups_code`, `month_code`, `cause_of_death`, `population`, `crude_rate`."
   ]
  },
  {
   "cell_type": "code",
   "execution_count": 8,
   "metadata": {},
   "outputs": [
    {
     "data": {
      "text/plain": [
       "array(['Mar.', 'Nov.', 'Jan.', 'Feb.', 'Apr.', 'May', 'Jun.', 'Jul.',\n",
       "       'Aug.', 'Sep.', 'Oct.', 'Dec.'], dtype=object)"
      ]
     },
     "execution_count": 8,
     "metadata": {},
     "output_type": "execute_result"
    }
   ],
   "source": [
    "heart_disease_data['month_name'].unique()"
   ]
  },
  {
   "cell_type": "markdown",
   "metadata": {},
   "source": [
    "* The month name `May` has some inconsistencies. It misses the '.' . Let's fix this!"
   ]
  },
  {
   "cell_type": "code",
   "execution_count": 9,
   "metadata": {},
   "outputs": [],
   "source": [
    "# Add a period to 'May' to ensure consistency\n",
    "heart_disease_data['month_name'] = heart_disease_data['month_name'].str.replace(r'^May$', 'May.', regex=True)"
   ]
  },
  {
   "cell_type": "markdown",
   "metadata": {},
   "source": [
    "* May has been rectified"
   ]
  },
  {
   "cell_type": "code",
   "execution_count": 10,
   "metadata": {},
   "outputs": [],
   "source": [
    "# Combine 'month_name' and 'year' into a 'date' column\n",
    "heart_disease_data['date'] = pd.to_datetime(heart_disease_data['month_name'] + ' ' + heart_disease_data['year'].astype(str), format='%b. %Y', errors='coerce')\n",
    "\n",
    "heart_disease_data.drop(['five_year_age_groups_code','month_code', 'cause_of_death', 'population', 'crude_rate','notes'], axis=1, inplace=True)\n"
   ]
  },
  {
   "cell_type": "markdown",
   "metadata": {},
   "source": [
    "* Perfect!"
   ]
  },
  {
   "cell_type": "markdown",
   "metadata": {},
   "source": [
    "### Checking if we have the relevant ICD-10 Codes"
   ]
  },
  {
   "cell_type": "markdown",
   "metadata": {},
   "source": [
    "* Codes `I00-I99` - Diseases related to circulatory systems (“2025 ICD-10-CM Codes I00-I99: Diseases of the Circulatory System,” n.d.)"
   ]
  },
  {
   "cell_type": "code",
   "execution_count": 11,
   "metadata": {},
   "outputs": [
    {
     "data": {
      "text/plain": [
       "array(['I11.9', 'I25.1', 'I21.9', 'I42.9', 'I25.0', 'I61.9', 'I51.7',\n",
       "       'I64', 'I60.9', 'I62.9', 'I42.0', 'I46.9', 'I50.0', 'I10', 'I12.0',\n",
       "       'I71.0', 'I11.0', 'I25.9', 'I69.4', 'I25.5', 'I48', 'I69.8',\n",
       "       'I26.9', 'I35.0', 'I70.9', 'I51.6', 'I71.3', 'I38', 'I73.9',\n",
       "       'I67.9', 'I49.9', 'I50.9', 'I51.9', 'I63.9', 'I34.0', 'I67.2',\n",
       "       'I62.0', 'I80.2', 'I27.2', 'I13.2', 'I25.8', 'I67.8', 'I21.4',\n",
       "       'I69.3', 'I13.1', 'I63.4'], dtype=object)"
      ]
     },
     "execution_count": 11,
     "metadata": {},
     "output_type": "execute_result"
    }
   ],
   "source": [
    "heart_disease_data['cause_of_death_code'].unique()\n"
   ]
  },
  {
   "cell_type": "code",
   "execution_count": 12,
   "metadata": {},
   "outputs": [
    {
     "data": {
      "text/plain": [
       "46"
      ]
     },
     "execution_count": 12,
     "metadata": {},
     "output_type": "execute_result"
    }
   ],
   "source": [
    "heart_disease_data['cause_of_death_code'].nunique()\n"
   ]
  },
  {
   "cell_type": "markdown",
   "metadata": {},
   "source": [
    "* We'll remove `I62` and `I62.9` since they are not related to the scope of the project."
   ]
  },
  {
   "cell_type": "code",
   "execution_count": 13,
   "metadata": {},
   "outputs": [
    {
     "name": "stdout",
     "output_type": "stream",
     "text": [
      "['I11.9' 'I25.1' 'I21.9' 'I42.9' 'I25.0' 'I61.9' 'I51.7' 'I64' 'I60.9'\n",
      " 'I42.0' 'I46.9' 'I50.0' 'I10' 'I12.0' 'I71.0' 'I11.0' 'I25.9' 'I69.4'\n",
      " 'I25.5' 'I48' 'I69.8' 'I26.9' 'I35.0' 'I70.9' 'I51.6' 'I71.3' 'I38'\n",
      " 'I73.9' 'I67.9' 'I49.9' 'I50.9' 'I51.9' 'I63.9' 'I34.0' 'I67.2' 'I80.2'\n",
      " 'I27.2' 'I13.2' 'I25.8' 'I67.8' 'I21.4' 'I69.3' 'I13.1' 'I63.4']\n"
     ]
    }
   ],
   "source": [
    "# Remove rows where 'cause_of_death_code' is either 'I62' or 'I62.9'\n",
    "heart_disease_data = heart_disease_data[~heart_disease_data['cause_of_death_code'].isin(['I62.0', 'I62.9'])]\n",
    "\n",
    "# Verify the result\n",
    "print(heart_disease_data['cause_of_death_code'].unique())"
   ]
  },
  {
   "cell_type": "code",
   "execution_count": 14,
   "metadata": {},
   "outputs": [
    {
     "data": {
      "text/plain": [
       "44"
      ]
     },
     "execution_count": 14,
     "metadata": {},
     "output_type": "execute_result"
    }
   ],
   "source": [
    "heart_disease_data['cause_of_death_code'].nunique()"
   ]
  },
  {
   "cell_type": "markdown",
   "metadata": {},
   "source": [
    "* We've successfully removed the irrelevant columns."
   ]
  },
  {
   "cell_type": "markdown",
   "metadata": {},
   "source": [
    "## Checking if there are null values"
   ]
  },
  {
   "cell_type": "code",
   "execution_count": 15,
   "metadata": {},
   "outputs": [
    {
     "name": "stdout",
     "output_type": "stream",
     "text": [
      "Null values in SP500 Data:\n",
      "Series([], dtype: int64)\n",
      "----------------------------------------\n",
      "Null values in Unemployment Data:\n",
      "Series([], dtype: int64)\n",
      "----------------------------------------\n",
      "Null values in Inflation Data:\n",
      "Series([], dtype: int64)\n",
      "----------------------------------------\n",
      "Null values in Heart Disease Data:\n",
      "Series([], dtype: int64)\n",
      "----------------------------------------\n"
     ]
    }
   ],
   "source": [
    "# Function to check for null values\n",
    "def check_null_values(df, dataset_name):\n",
    "    null_counts = df.isnull().sum()\n",
    "    print(f\"Null values in {dataset_name}:\")\n",
    "    print(null_counts[null_counts > 0])  # Display columns with null values\n",
    "    print('-' * 40)\n",
    "\n",
    "# Check for null values in each dataset\n",
    "check_null_values(sp500_data, \"SP500 Data\")\n",
    "check_null_values(unemployment_data, \"Unemployment Data\")\n",
    "check_null_values(inflation_data, \"Inflation Data\")\n",
    "check_null_values(heart_disease_data, \"Heart Disease Data\")\n"
   ]
  },
  {
   "cell_type": "markdown",
   "metadata": {},
   "source": [
    "* Therefore, we don't have null values in any of our datasets."
   ]
  },
  {
   "cell_type": "markdown",
   "metadata": {},
   "source": [
    "### Removing irrelevant columns from SP500"
   ]
  },
  {
   "cell_type": "code",
   "execution_count": 16,
   "metadata": {},
   "outputs": [],
   "source": [
    "sp500_data.drop(['close','high','low','open','volume'], axis=1, inplace=True)"
   ]
  },
  {
   "cell_type": "code",
   "execution_count": 17,
   "metadata": {},
   "outputs": [
    {
     "data": {
      "text/html": [
       "<div>\n",
       "<style scoped>\n",
       "    .dataframe tbody tr th:only-of-type {\n",
       "        vertical-align: middle;\n",
       "    }\n",
       "\n",
       "    .dataframe tbody tr th {\n",
       "        vertical-align: top;\n",
       "    }\n",
       "\n",
       "    .dataframe thead th {\n",
       "        text-align: right;\n",
       "    }\n",
       "</style>\n",
       "<table border=\"1\" class=\"dataframe\">\n",
       "  <thead>\n",
       "    <tr style=\"text-align: right;\">\n",
       "      <th></th>\n",
       "      <th>date</th>\n",
       "      <th>adj_close</th>\n",
       "    </tr>\n",
       "  </thead>\n",
       "  <tbody>\n",
       "    <tr>\n",
       "      <th>0</th>\n",
       "      <td>2007-01-03 00:00:00+00:00</td>\n",
       "      <td>1416.599976</td>\n",
       "    </tr>\n",
       "    <tr>\n",
       "      <th>1</th>\n",
       "      <td>2007-01-04 00:00:00+00:00</td>\n",
       "      <td>1418.339966</td>\n",
       "    </tr>\n",
       "    <tr>\n",
       "      <th>2</th>\n",
       "      <td>2007-01-05 00:00:00+00:00</td>\n",
       "      <td>1409.709961</td>\n",
       "    </tr>\n",
       "    <tr>\n",
       "      <th>3</th>\n",
       "      <td>2007-01-08 00:00:00+00:00</td>\n",
       "      <td>1412.839966</td>\n",
       "    </tr>\n",
       "    <tr>\n",
       "      <th>4</th>\n",
       "      <td>2007-01-09 00:00:00+00:00</td>\n",
       "      <td>1412.109985</td>\n",
       "    </tr>\n",
       "  </tbody>\n",
       "</table>\n",
       "</div>"
      ],
      "text/plain": [
       "                        date    adj_close\n",
       "0  2007-01-03 00:00:00+00:00  1416.599976\n",
       "1  2007-01-04 00:00:00+00:00  1418.339966\n",
       "2  2007-01-05 00:00:00+00:00  1409.709961\n",
       "3  2007-01-08 00:00:00+00:00  1412.839966\n",
       "4  2007-01-09 00:00:00+00:00  1412.109985"
      ]
     },
     "execution_count": 17,
     "metadata": {},
     "output_type": "execute_result"
    }
   ],
   "source": [
    "sp500_data.head()"
   ]
  },
  {
   "cell_type": "markdown",
   "metadata": {},
   "source": [
    "## Now we need to ensure each dataset has the correct `date` column."
   ]
  },
  {
   "cell_type": "markdown",
   "metadata": {},
   "source": [
    "#### 1. Inflation Data"
   ]
  },
  {
   "cell_type": "code",
   "execution_count": 18,
   "metadata": {},
   "outputs": [],
   "source": [
    "inflation_data['date'] = pd.to_datetime(inflation_data['date'], format='%b-%y')\n"
   ]
  },
  {
   "cell_type": "code",
   "execution_count": 19,
   "metadata": {},
   "outputs": [
    {
     "data": {
      "text/plain": [
       "0"
      ]
     },
     "execution_count": 19,
     "metadata": {},
     "output_type": "execute_result"
    }
   ],
   "source": [
    "inflation_data['date'].isnull().sum()"
   ]
  },
  {
   "cell_type": "markdown",
   "metadata": {},
   "source": [
    "* This data is ready to use. `date` column has been transformed to datetime and no null values are found"
   ]
  },
  {
   "cell_type": "markdown",
   "metadata": {},
   "source": [
    "#### 2. Unemployment Data"
   ]
  },
  {
   "cell_type": "code",
   "execution_count": 20,
   "metadata": {},
   "outputs": [],
   "source": [
    "unemployment_data['date'] = pd.to_datetime(unemployment_data['date'])"
   ]
  },
  {
   "cell_type": "code",
   "execution_count": 21,
   "metadata": {},
   "outputs": [
    {
     "data": {
      "text/plain": [
       "0"
      ]
     },
     "execution_count": 21,
     "metadata": {},
     "output_type": "execute_result"
    }
   ],
   "source": [
    "inflation_data['date'].isnull().sum()"
   ]
  },
  {
   "cell_type": "code",
   "execution_count": 22,
   "metadata": {},
   "outputs": [
    {
     "name": "stdout",
     "output_type": "stream",
     "text": [
      "<class 'pandas.core.frame.DataFrame'>\n",
      "RangeIndex: 214 entries, 0 to 213\n",
      "Data columns (total 2 columns):\n",
      " #   Column         Non-Null Count  Dtype         \n",
      "---  ------         --------------  -----         \n",
      " 0   date           214 non-null    datetime64[ns]\n",
      " 1   unemploy_rate  214 non-null    float64       \n",
      "dtypes: datetime64[ns](1), float64(1)\n",
      "memory usage: 3.5 KB\n"
     ]
    }
   ],
   "source": [
    "unemployment_data.info()"
   ]
  },
  {
   "cell_type": "markdown",
   "metadata": {},
   "source": [
    "* This data is ready to use. `date` column has been transformed to datetime and no null values are found"
   ]
  },
  {
   "cell_type": "markdown",
   "metadata": {},
   "source": [
    "#### 3. SP500 Data"
   ]
  },
  {
   "cell_type": "code",
   "execution_count": 23,
   "metadata": {},
   "outputs": [
    {
     "name": "stdout",
     "output_type": "stream",
     "text": [
      "          date    adj_close\n",
      "187 2022-08-01  4158.563084\n",
      "188 2022-09-01  3850.520496\n",
      "189 2022-10-01  3726.050956\n",
      "190 2022-11-01  3917.488595\n",
      "191 2022-12-01  3912.380952\n"
     ]
    }
   ],
   "source": [
    "sp500_data['date'] = pd.to_datetime(sp500_data['date']).dt.tz_localize(None)\n",
    "sp500_data.set_index('date', inplace=True)\n",
    "\n",
    "# Resample to monthly frequency and calculate the average of 'adj_close'\n",
    "sp500_data_monthly = sp500_data.resample('MS').mean()\n",
    "\n",
    "# Reset the index to bring 'date' back as a column\n",
    "sp500_data_monthly.reset_index(inplace=True)\n",
    "\n",
    "# Display the resulting DataFrame\n",
    "print(sp500_data_monthly.tail())\n"
   ]
  },
  {
   "cell_type": "code",
   "execution_count": 24,
   "metadata": {},
   "outputs": [
    {
     "name": "stdout",
     "output_type": "stream",
     "text": [
      "<class 'pandas.core.frame.DataFrame'>\n",
      "RangeIndex: 192 entries, 0 to 191\n",
      "Data columns (total 2 columns):\n",
      " #   Column     Non-Null Count  Dtype         \n",
      "---  ------     --------------  -----         \n",
      " 0   date       192 non-null    datetime64[ns]\n",
      " 1   adj_close  192 non-null    float64       \n",
      "dtypes: datetime64[ns](1), float64(1)\n",
      "memory usage: 3.1 KB\n"
     ]
    }
   ],
   "source": [
    "sp500_data_monthly.info()"
   ]
  },
  {
   "cell_type": "markdown",
   "metadata": {},
   "source": [
    "* This data is ready to use. `date` column has been transformed to datetime and no null values are found"
   ]
  },
  {
   "cell_type": "markdown",
   "metadata": {},
   "source": [
    "#### 4. Heart Disease Data"
   ]
  },
  {
   "cell_type": "code",
   "execution_count": 25,
   "metadata": {},
   "outputs": [
    {
     "name": "stdout",
     "output_type": "stream",
     "text": [
      "<class 'pandas.core.frame.DataFrame'>\n",
      "Index: 70061 entries, 0 to 70912\n",
      "Data columns (total 9 columns):\n",
      " #   Column                Non-Null Count  Dtype         \n",
      "---  ------                --------------  -----         \n",
      " 0   five_year_age_groups  70061 non-null  object        \n",
      " 1   state                 70061 non-null  object        \n",
      " 2   state_code            70061 non-null  float64       \n",
      " 3   month                 70061 non-null  object        \n",
      " 4   cause_of_death_code   70061 non-null  object        \n",
      " 5   deaths                70061 non-null  float64       \n",
      " 6   month_name            70061 non-null  object        \n",
      " 7   year                  70061 non-null  int64         \n",
      " 8   date                  70061 non-null  datetime64[ns]\n",
      "dtypes: datetime64[ns](1), float64(2), int64(1), object(5)\n",
      "memory usage: 5.3+ MB\n"
     ]
    }
   ],
   "source": [
    "heart_disease_data.info()"
   ]
  },
  {
   "cell_type": "markdown",
   "metadata": {},
   "source": [
    "* This data is ready to use. `date` column has been transformed to datetime and no null values are found"
   ]
  },
  {
   "cell_type": "code",
   "execution_count": 26,
   "metadata": {},
   "outputs": [],
   "source": [
    "heart_disease_data['deaths_diff'] = heart_disease_data['deaths'].diff().dropna()"
   ]
  },
  {
   "cell_type": "markdown",
   "metadata": {},
   "source": [
    "### Now Creating our Target Variable and Refining heart_disesase_data"
   ]
  },
  {
   "cell_type": "markdown",
   "metadata": {},
   "source": [
    "* We'll create target variable `Death_Counts`."
   ]
  },
  {
   "cell_type": "code",
   "execution_count": 27,
   "metadata": {},
   "outputs": [
    {
     "data": {
      "text/html": [
       "<div>\n",
       "<style scoped>\n",
       "    .dataframe tbody tr th:only-of-type {\n",
       "        vertical-align: middle;\n",
       "    }\n",
       "\n",
       "    .dataframe tbody tr th {\n",
       "        vertical-align: top;\n",
       "    }\n",
       "\n",
       "    .dataframe thead th {\n",
       "        text-align: right;\n",
       "    }\n",
       "</style>\n",
       "<table border=\"1\" class=\"dataframe\">\n",
       "  <thead>\n",
       "    <tr style=\"text-align: right;\">\n",
       "      <th></th>\n",
       "      <th>date</th>\n",
       "      <th>death_counts</th>\n",
       "    </tr>\n",
       "  </thead>\n",
       "  <tbody>\n",
       "    <tr>\n",
       "      <th>0</th>\n",
       "      <td>2007-01-01</td>\n",
       "      <td>15383.0</td>\n",
       "    </tr>\n",
       "    <tr>\n",
       "      <th>1</th>\n",
       "      <td>2007-02-01</td>\n",
       "      <td>13472.0</td>\n",
       "    </tr>\n",
       "    <tr>\n",
       "      <th>2</th>\n",
       "      <td>2007-03-01</td>\n",
       "      <td>14440.0</td>\n",
       "    </tr>\n",
       "    <tr>\n",
       "      <th>3</th>\n",
       "      <td>2007-04-01</td>\n",
       "      <td>13148.0</td>\n",
       "    </tr>\n",
       "    <tr>\n",
       "      <th>4</th>\n",
       "      <td>2007-05-01</td>\n",
       "      <td>12956.0</td>\n",
       "    </tr>\n",
       "  </tbody>\n",
       "</table>\n",
       "</div>"
      ],
      "text/plain": [
       "        date  death_counts\n",
       "0 2007-01-01       15383.0\n",
       "1 2007-02-01       13472.0\n",
       "2 2007-03-01       14440.0\n",
       "3 2007-04-01       13148.0\n",
       "4 2007-05-01       12956.0"
      ]
     },
     "execution_count": 27,
     "metadata": {},
     "output_type": "execute_result"
    }
   ],
   "source": [
    "# Group by 'date' and sum deaths directly\n",
    "heart_disease_summary = heart_disease_data.groupby('date', as_index=False)['deaths'].sum()\n",
    "\n",
    "# Rename column for clarity\n",
    "heart_disease_summary.rename(columns={'deaths': 'death_counts'}, inplace=True)\n",
    "\n",
    "# Display the result\n",
    "heart_disease_summary.head()\n"
   ]
  },
  {
   "cell_type": "code",
   "execution_count": 28,
   "metadata": {},
   "outputs": [
    {
     "data": {
      "text/html": [
       "<div>\n",
       "<style scoped>\n",
       "    .dataframe tbody tr th:only-of-type {\n",
       "        vertical-align: middle;\n",
       "    }\n",
       "\n",
       "    .dataframe tbody tr th {\n",
       "        vertical-align: top;\n",
       "    }\n",
       "\n",
       "    .dataframe thead th {\n",
       "        text-align: right;\n",
       "    }\n",
       "</style>\n",
       "<table border=\"1\" class=\"dataframe\">\n",
       "  <thead>\n",
       "    <tr style=\"text-align: right;\">\n",
       "      <th></th>\n",
       "      <th>date</th>\n",
       "      <th>adj_close</th>\n",
       "    </tr>\n",
       "  </thead>\n",
       "  <tbody>\n",
       "    <tr>\n",
       "      <th>0</th>\n",
       "      <td>2007-01-01</td>\n",
       "      <td>1424.160986</td>\n",
       "    </tr>\n",
       "    <tr>\n",
       "      <th>1</th>\n",
       "      <td>2007-02-01</td>\n",
       "      <td>1444.794748</td>\n",
       "    </tr>\n",
       "    <tr>\n",
       "      <th>2</th>\n",
       "      <td>2007-03-01</td>\n",
       "      <td>1406.951821</td>\n",
       "    </tr>\n",
       "    <tr>\n",
       "      <th>3</th>\n",
       "      <td>2007-04-01</td>\n",
       "      <td>1463.640503</td>\n",
       "    </tr>\n",
       "    <tr>\n",
       "      <th>4</th>\n",
       "      <td>2007-05-01</td>\n",
       "      <td>1511.136813</td>\n",
       "    </tr>\n",
       "    <tr>\n",
       "      <th>...</th>\n",
       "      <td>...</td>\n",
       "      <td>...</td>\n",
       "    </tr>\n",
       "    <tr>\n",
       "      <th>187</th>\n",
       "      <td>2022-08-01</td>\n",
       "      <td>4158.563084</td>\n",
       "    </tr>\n",
       "    <tr>\n",
       "      <th>188</th>\n",
       "      <td>2022-09-01</td>\n",
       "      <td>3850.520496</td>\n",
       "    </tr>\n",
       "    <tr>\n",
       "      <th>189</th>\n",
       "      <td>2022-10-01</td>\n",
       "      <td>3726.050956</td>\n",
       "    </tr>\n",
       "    <tr>\n",
       "      <th>190</th>\n",
       "      <td>2022-11-01</td>\n",
       "      <td>3917.488595</td>\n",
       "    </tr>\n",
       "    <tr>\n",
       "      <th>191</th>\n",
       "      <td>2022-12-01</td>\n",
       "      <td>3912.380952</td>\n",
       "    </tr>\n",
       "  </tbody>\n",
       "</table>\n",
       "<p>192 rows × 2 columns</p>\n",
       "</div>"
      ],
      "text/plain": [
       "          date    adj_close\n",
       "0   2007-01-01  1424.160986\n",
       "1   2007-02-01  1444.794748\n",
       "2   2007-03-01  1406.951821\n",
       "3   2007-04-01  1463.640503\n",
       "4   2007-05-01  1511.136813\n",
       "..         ...          ...\n",
       "187 2022-08-01  4158.563084\n",
       "188 2022-09-01  3850.520496\n",
       "189 2022-10-01  3726.050956\n",
       "190 2022-11-01  3917.488595\n",
       "191 2022-12-01  3912.380952\n",
       "\n",
       "[192 rows x 2 columns]"
      ]
     },
     "execution_count": 28,
     "metadata": {},
     "output_type": "execute_result"
    }
   ],
   "source": [
    "sp500_data_monthly"
   ]
  },
  {
   "cell_type": "markdown",
   "metadata": {},
   "source": [
    "## Joining all 4 dataframes to have a master dataframe"
   ]
  },
  {
   "cell_type": "code",
   "execution_count": 29,
   "metadata": {},
   "outputs": [],
   "source": [
    "# Step 1: Merge heart_disease_summary with sp500_data\n",
    "merged_data = pd.merge(\n",
    "    heart_disease_summary,\n",
    "    sp500_data_monthly,\n",
    "    on='date',\n",
    "    how='inner'\n",
    ")"
   ]
  },
  {
   "cell_type": "code",
   "execution_count": 30,
   "metadata": {},
   "outputs": [],
   "source": [
    "# Step 2: Merge with inflation_data\n",
    "merged_data = pd.merge(\n",
    "    merged_data,\n",
    "    inflation_data,\n",
    "    on='date',\n",
    "    how='inner'\n",
    ")"
   ]
  },
  {
   "cell_type": "code",
   "execution_count": 31,
   "metadata": {},
   "outputs": [
    {
     "name": "stdout",
     "output_type": "stream",
     "text": [
      "Final Data Range: 2007-01-01 00:00:00 to 2022-12-01 00:00:00\n",
      "<class 'pandas.core.frame.DataFrame'>\n",
      "RangeIndex: 192 entries, 0 to 191\n",
      "Data columns (total 5 columns):\n",
      " #   Column          Non-Null Count  Dtype         \n",
      "---  ------          --------------  -----         \n",
      " 0   date            192 non-null    datetime64[ns]\n",
      " 1   death_counts    192 non-null    float64       \n",
      " 2   adj_close       192 non-null    float64       \n",
      " 3   inflation_rate  192 non-null    float64       \n",
      " 4   unemploy_rate   192 non-null    float64       \n",
      "dtypes: datetime64[ns](1), float64(4)\n",
      "memory usage: 7.6 KB\n",
      "None\n"
     ]
    }
   ],
   "source": [
    "# Step 3: Merge with unemployment_data\n",
    "merged_data = pd.merge(\n",
    "    merged_data,\n",
    "    unemployment_data,\n",
    "    on='date',\n",
    "    how='inner'\n",
    ")\n",
    "\n",
    "# Step 4: Check the final range and structure\n",
    "print(\"Final Data Range:\", merged_data['date'].min(), \"to\", merged_data['date'].max())\n",
    "print(merged_data.info())\n"
   ]
  },
  {
   "cell_type": "markdown",
   "metadata": {},
   "source": [
    "After combining all four datasets (deaths due to heartattack, sp500, unemployment rate, inflation rate), total entries are 192 which is consistent. "
   ]
  },
  {
   "cell_type": "code",
   "execution_count": 32,
   "metadata": {},
   "outputs": [
    {
     "data": {
      "text/html": [
       "<div>\n",
       "<style scoped>\n",
       "    .dataframe tbody tr th:only-of-type {\n",
       "        vertical-align: middle;\n",
       "    }\n",
       "\n",
       "    .dataframe tbody tr th {\n",
       "        vertical-align: top;\n",
       "    }\n",
       "\n",
       "    .dataframe thead th {\n",
       "        text-align: right;\n",
       "    }\n",
       "</style>\n",
       "<table border=\"1\" class=\"dataframe\">\n",
       "  <thead>\n",
       "    <tr style=\"text-align: right;\">\n",
       "      <th></th>\n",
       "      <th>date</th>\n",
       "      <th>death_counts</th>\n",
       "      <th>adj_close</th>\n",
       "      <th>inflation_rate</th>\n",
       "      <th>unemploy_rate</th>\n",
       "    </tr>\n",
       "  </thead>\n",
       "  <tbody>\n",
       "    <tr>\n",
       "      <th>0</th>\n",
       "      <td>2007-01-01</td>\n",
       "      <td>15383.0</td>\n",
       "      <td>1424.160986</td>\n",
       "      <td>2.08</td>\n",
       "      <td>4.1</td>\n",
       "    </tr>\n",
       "    <tr>\n",
       "      <th>1</th>\n",
       "      <td>2007-02-01</td>\n",
       "      <td>13472.0</td>\n",
       "      <td>1444.794748</td>\n",
       "      <td>2.42</td>\n",
       "      <td>4.0</td>\n",
       "    </tr>\n",
       "    <tr>\n",
       "      <th>2</th>\n",
       "      <td>2007-03-01</td>\n",
       "      <td>14440.0</td>\n",
       "      <td>1406.951821</td>\n",
       "      <td>2.78</td>\n",
       "      <td>3.9</td>\n",
       "    </tr>\n",
       "    <tr>\n",
       "      <th>3</th>\n",
       "      <td>2007-04-01</td>\n",
       "      <td>13148.0</td>\n",
       "      <td>1463.640503</td>\n",
       "      <td>2.57</td>\n",
       "      <td>3.9</td>\n",
       "    </tr>\n",
       "    <tr>\n",
       "      <th>4</th>\n",
       "      <td>2007-05-01</td>\n",
       "      <td>12956.0</td>\n",
       "      <td>1511.136813</td>\n",
       "      <td>2.69</td>\n",
       "      <td>3.9</td>\n",
       "    </tr>\n",
       "  </tbody>\n",
       "</table>\n",
       "</div>"
      ],
      "text/plain": [
       "        date  death_counts    adj_close  inflation_rate  unemploy_rate\n",
       "0 2007-01-01       15383.0  1424.160986            2.08            4.1\n",
       "1 2007-02-01       13472.0  1444.794748            2.42            4.0\n",
       "2 2007-03-01       14440.0  1406.951821            2.78            3.9\n",
       "3 2007-04-01       13148.0  1463.640503            2.57            3.9\n",
       "4 2007-05-01       12956.0  1511.136813            2.69            3.9"
      ]
     },
     "execution_count": 32,
     "metadata": {},
     "output_type": "execute_result"
    }
   ],
   "source": [
    "merged_data.head()"
   ]
  },
  {
   "cell_type": "markdown",
   "metadata": {},
   "source": [
    "## Check for Multicollinearity"
   ]
  },
  {
   "cell_type": "code",
   "execution_count": 33,
   "metadata": {},
   "outputs": [
    {
     "data": {
      "image/png": "[encoded data removed]",
      "text/plain": [
       "<Figure size 800x600 with 2 Axes>"
      ]
     },
     "metadata": {},
     "output_type": "display_data"
    }
   ],
   "source": [
    "# Compute correlation matrix\n",
    "correlation_matrix = merged_data[['adj_close', 'inflation_rate', 'unemploy_rate']].corr()\n",
    "\n",
    "# Visualize the correlation matrix\n",
    "plt.figure(figsize=(8, 6))\n",
    "sns.heatmap(correlation_matrix, annot=True, cmap='coolwarm', fmt='.2f')\n",
    "plt.title('Correlation Matrix')\n",
    "plt.show()\n"
   ]
  },
  {
   "cell_type": "markdown",
   "metadata": {},
   "source": [
    "No significant multicollinearity is evident based on the correlation matrix. It is safe to include all three variables (adj_close, inflation_rate, and unemploy_rate) in the predictive model for Death_Counts.\n"
   ]
  },
  {
   "cell_type": "markdown",
   "metadata": {},
   "source": [
    "# Analysis"
   ]
  },
  {
   "cell_type": "code",
   "execution_count": 34,
   "metadata": {},
   "outputs": [],
   "source": [
    "merged_data = merged_data.sort_values(by='date')"
   ]
  },
  {
   "cell_type": "code",
   "execution_count": 35,
   "metadata": {},
   "outputs": [],
   "source": [
    "# Creating lag variables \n",
    "merged_data['lag_deaths'] = merged_data['death_counts'].shift(1)\n",
    "merged_data['lag_unemployment'] = merged_data['unemploy_rate'].shift(1)\n",
    "merged_data['lag_inflation'] = merged_data['inflation_rate'].shift(1)\n"
   ]
  },
  {
   "cell_type": "code",
   "execution_count": 36,
   "metadata": {},
   "outputs": [],
   "source": [
    "# Rolling Averages\n",
    "merged_data['rolling_deaths'] = merged_data['death_counts'].rolling(window=3).mean()"
   ]
  },
  {
   "cell_type": "code",
   "execution_count": 37,
   "metadata": {},
   "outputs": [],
   "source": [
    "merged_data = merged_data.dropna()\n"
   ]
  },
  {
   "cell_type": "markdown",
   "metadata": {},
   "source": [
    "## Feature Engineering\n",
    "Adding seasonality features to capture the monthly pattern:"
   ]
  },
  {
   "cell_type": "code",
   "execution_count": 38,
   "metadata": {},
   "outputs": [],
   "source": [
    "# Add Month as a Feature\n",
    "merged_data['month'] = merged_data['date'].dt.month\n",
    "\n",
    "# Add Cyclical Features for Month\n",
    "merged_data['month_sin'] = np.sin(2 * np.pi * merged_data['month'] / 12)\n",
    "merged_data['month_cos'] = np.cos(2 * np.pi * merged_data['month'] / 12)\n"
   ]
  },
  {
   "cell_type": "code",
   "execution_count": 39,
   "metadata": {},
   "outputs": [
    {
     "data": {
      "text/html": [
       "<div>\n",
       "<style scoped>\n",
       "    .dataframe tbody tr th:only-of-type {\n",
       "        vertical-align: middle;\n",
       "    }\n",
       "\n",
       "    .dataframe tbody tr th {\n",
       "        vertical-align: top;\n",
       "    }\n",
       "\n",
       "    .dataframe thead th {\n",
       "        text-align: right;\n",
       "    }\n",
       "</style>\n",
       "<table border=\"1\" class=\"dataframe\">\n",
       "  <thead>\n",
       "    <tr style=\"text-align: right;\">\n",
       "      <th></th>\n",
       "      <th>date</th>\n",
       "      <th>death_counts</th>\n",
       "      <th>adj_close</th>\n",
       "      <th>inflation_rate</th>\n",
       "      <th>unemploy_rate</th>\n",
       "      <th>lag_deaths</th>\n",
       "      <th>lag_unemployment</th>\n",
       "      <th>lag_inflation</th>\n",
       "      <th>rolling_deaths</th>\n",
       "      <th>month</th>\n",
       "      <th>month_sin</th>\n",
       "      <th>month_cos</th>\n",
       "    </tr>\n",
       "  </thead>\n",
       "  <tbody>\n",
       "    <tr>\n",
       "      <th>2</th>\n",
       "      <td>2007-03-01</td>\n",
       "      <td>14440.0</td>\n",
       "      <td>1406.951821</td>\n",
       "      <td>2.78</td>\n",
       "      <td>3.9</td>\n",
       "      <td>13472.0</td>\n",
       "      <td>4.0</td>\n",
       "      <td>2.42</td>\n",
       "      <td>14431.666667</td>\n",
       "      <td>3</td>\n",
       "      <td>1.000000e+00</td>\n",
       "      <td>6.123234e-17</td>\n",
       "    </tr>\n",
       "    <tr>\n",
       "      <th>3</th>\n",
       "      <td>2007-04-01</td>\n",
       "      <td>13148.0</td>\n",
       "      <td>1463.640503</td>\n",
       "      <td>2.57</td>\n",
       "      <td>3.9</td>\n",
       "      <td>14440.0</td>\n",
       "      <td>3.9</td>\n",
       "      <td>2.78</td>\n",
       "      <td>13686.666667</td>\n",
       "      <td>4</td>\n",
       "      <td>8.660254e-01</td>\n",
       "      <td>-5.000000e-01</td>\n",
       "    </tr>\n",
       "    <tr>\n",
       "      <th>4</th>\n",
       "      <td>2007-05-01</td>\n",
       "      <td>12956.0</td>\n",
       "      <td>1511.136813</td>\n",
       "      <td>2.69</td>\n",
       "      <td>3.9</td>\n",
       "      <td>13148.0</td>\n",
       "      <td>3.9</td>\n",
       "      <td>2.57</td>\n",
       "      <td>13514.666667</td>\n",
       "      <td>5</td>\n",
       "      <td>5.000000e-01</td>\n",
       "      <td>-8.660254e-01</td>\n",
       "    </tr>\n",
       "    <tr>\n",
       "      <th>5</th>\n",
       "      <td>2007-06-01</td>\n",
       "      <td>12001.0</td>\n",
       "      <td>1514.489519</td>\n",
       "      <td>2.69</td>\n",
       "      <td>4.0</td>\n",
       "      <td>12956.0</td>\n",
       "      <td>3.9</td>\n",
       "      <td>2.69</td>\n",
       "      <td>12701.666667</td>\n",
       "      <td>6</td>\n",
       "      <td>1.224647e-16</td>\n",
       "      <td>-1.000000e+00</td>\n",
       "    </tr>\n",
       "    <tr>\n",
       "      <th>6</th>\n",
       "      <td>2007-07-01</td>\n",
       "      <td>11959.0</td>\n",
       "      <td>1520.704758</td>\n",
       "      <td>2.36</td>\n",
       "      <td>4.2</td>\n",
       "      <td>12001.0</td>\n",
       "      <td>4.0</td>\n",
       "      <td>2.69</td>\n",
       "      <td>12305.333333</td>\n",
       "      <td>7</td>\n",
       "      <td>-5.000000e-01</td>\n",
       "      <td>-8.660254e-01</td>\n",
       "    </tr>\n",
       "  </tbody>\n",
       "</table>\n",
       "</div>"
      ],
      "text/plain": [
       "        date  death_counts    adj_close  inflation_rate  unemploy_rate  \\\n",
       "2 2007-03-01       14440.0  1406.951821            2.78            3.9   \n",
       "3 2007-04-01       13148.0  1463.640503            2.57            3.9   \n",
       "4 2007-05-01       12956.0  1511.136813            2.69            3.9   \n",
       "5 2007-06-01       12001.0  1514.489519            2.69            4.0   \n",
       "6 2007-07-01       11959.0  1520.704758            2.36            4.2   \n",
       "\n",
       "   lag_deaths  lag_unemployment  lag_inflation  rolling_deaths  month  \\\n",
       "2     13472.0               4.0           2.42    14431.666667      3   \n",
       "3     14440.0               3.9           2.78    13686.666667      4   \n",
       "4     13148.0               3.9           2.57    13514.666667      5   \n",
       "5     12956.0               3.9           2.69    12701.666667      6   \n",
       "6     12001.0               4.0           2.69    12305.333333      7   \n",
       "\n",
       "      month_sin     month_cos  \n",
       "2  1.000000e+00  6.123234e-17  \n",
       "3  8.660254e-01 -5.000000e-01  \n",
       "4  5.000000e-01 -8.660254e-01  \n",
       "5  1.224647e-16 -1.000000e+00  \n",
       "6 -5.000000e-01 -8.660254e-01  "
      ]
     },
     "execution_count": 39,
     "metadata": {},
     "output_type": "execute_result"
    }
   ],
   "source": [
    "merged_data.head()"
   ]
  },
  {
   "cell_type": "markdown",
   "metadata": {},
   "source": [
    "## Train-Test Split\n",
    "Use a time-based split to avoid data leakage:"
   ]
  },
  {
   "cell_type": "code",
   "execution_count": 40,
   "metadata": {},
   "outputs": [],
   "source": [
    "# Split into train and test datasets\n",
    "train_data = merged_data[merged_data['date'] < '2020-01-01']\n",
    "test_data = merged_data[merged_data['date'] >= '2020-01-01']\n",
    "\n",
    "# Define Features and Target\n",
    "features = ['adj_close', 'inflation_rate', 'unemploy_rate', 'lag_deaths', 'lag_inflation', 'lag_unemployment', 'month_sin', 'month_cos', 'rolling_deaths']\n",
    "X_train = train_data[features]\n",
    "y_train = train_data['death_counts']\n",
    "X_test = test_data[features]\n",
    "y_test = test_data['death_counts']\n"
   ]
  },
  {
   "cell_type": "code",
   "execution_count": 41,
   "metadata": {},
   "outputs": [
    {
     "name": "stdout",
     "output_type": "stream",
     "text": [
      "DatetimeIndex(['2007-03-01', '2007-04-01', '2007-05-01', '2007-06-01',\n",
      "               '2007-07-01', '2007-08-01', '2007-09-01', '2007-10-01',\n",
      "               '2007-11-01', '2007-12-01',\n",
      "               ...\n",
      "               '2022-03-01', '2022-04-01', '2022-05-01', '2022-06-01',\n",
      "               '2022-07-01', '2022-08-01', '2022-09-01', '2022-10-01',\n",
      "               '2022-11-01', '2022-12-01'],\n",
      "              dtype='datetime64[ns]', name='date', length=190, freq=None)\n"
     ]
    }
   ],
   "source": [
    "merged_data.set_index('date', inplace=True)\n",
    "print(merged_data.index)"
   ]
  },
  {
   "cell_type": "markdown",
   "metadata": {},
   "source": [
    "## Modeling Approaches"
   ]
  },
  {
   "cell_type": "markdown",
   "metadata": {},
   "source": [
    "\n",
    "# 1: Time-Series with SARIMAX\n",
    "SARIMAX allows the inclusion of exogenous variables like inflation_rate and unemploy_rate:"
   ]
  },
  {
   "cell_type": "code",
   "execution_count": 42,
   "metadata": {},
   "outputs": [
    {
     "name": "stdout",
     "output_type": "stream",
     "text": [
      "Best SARIMAX order: (2, 1, 1)\n",
      "Best Seasonal order: (0, 1, 1, 12)\n"
     ]
    }
   ],
   "source": [
    "\n",
    "# Define p, d, q and seasonal (P, D, Q, S) ranges\n",
    "p = d = q = range(0, 3)\n",
    "seasonal_p = seasonal_d = seasonal_q = range(0, 2)\n",
    "seasonal_s = [12]  # Monthly seasonality\n",
    "\n",
    "# Generate combinations\n",
    "pdq = list(itertools.product(p, d, q))\n",
    "seasonal_pdq = list(itertools.product(seasonal_p, seasonal_d, seasonal_q, seasonal_s))\n",
    "\n",
    "best_aic = float(\"inf\")\n",
    "best_order = None\n",
    "best_seasonal_order = None\n",
    "\n",
    "for param in pdq:\n",
    "    for param_seasonal in seasonal_pdq:\n",
    "        try:\n",
    "            model = SARIMAX(merged_data['death_counts'],\n",
    "                            exog=merged_data[['inflation_rate', 'unemploy_rate']],\n",
    "                            order=param,\n",
    "                            seasonal_order=param_seasonal)\n",
    "            results = model.fit(disp=False)\n",
    "            if results.aic < best_aic:\n",
    "                best_aic = results.aic\n",
    "                best_order = param\n",
    "                best_seasonal_order = param_seasonal\n",
    "        except:\n",
    "            continue\n",
    "\n",
    "print(f\"Best SARIMAX order: {best_order}\")\n",
    "print(f\"Best Seasonal order: {best_seasonal_order}\")\n",
    "\n"
   ]
  },
  {
   "cell_type": "code",
   "execution_count": 43,
   "metadata": {},
   "outputs": [],
   "source": [
    "from sklearn.preprocessing import StandardScaler\n",
    "\n",
    "scaler = StandardScaler()\n",
    "merged_data[['inflation_rate', 'unemploy_rate']] = scaler.fit_transform(merged_data[['inflation_rate', 'unemploy_rate']])\n"
   ]
  },
  {
   "cell_type": "code",
   "execution_count": 44,
   "metadata": {},
   "outputs": [
    {
     "name": "stdout",
     "output_type": "stream",
     "text": [
      "RUNNING THE L-BFGS-B CODE\n",
      "\n",
      "           * * *\n",
      "\n",
      "Machine precision = 2.220D-16\n",
      " N =            7     M =           10\n",
      "\n",
      "At X0         0 variables are exactly at the bounds\n",
      "\n",
      "At iterate    0    f=  6.90578D+00    |proj g|=  5.58852D-02\n",
      "\n",
      "At iterate    5    f=  6.88429D+00    |proj g|=  6.79305D-02\n",
      "\n",
      "At iterate   10    f=  6.87543D+00    |proj g|=  1.23820D-03\n",
      "\n",
      "At iterate   15    f=  6.87485D+00    |proj g|=  8.69717D-04\n"
     ]
    },
    {
     "name": "stderr",
     "output_type": "stream",
     "text": [
      " This problem is unconstrained.\n"
     ]
    },
    {
     "name": "stdout",
     "output_type": "stream",
     "text": [
      "\n",
      "At iterate   20    f=  6.87226D+00    |proj g|=  3.41995D-02\n",
      "\n",
      "At iterate   25    f=  6.82645D+00    |proj g|=  5.44198D-02\n",
      "\n",
      "At iterate   30    f=  6.77253D+00    |proj g|=  9.85932D-03\n",
      "\n",
      "At iterate   35    f=  6.77245D+00    |proj g|=  8.44435D-04\n",
      "\n",
      "At iterate   40    f=  6.77242D+00    |proj g|=  1.92268D-03\n",
      "\n",
      "At iterate   45    f=  6.77219D+00    |proj g|=  4.07314D-03\n",
      "\n",
      "At iterate   50    f=  6.76608D+00    |proj g|=  1.23502D-02\n",
      "\n",
      "           * * *\n",
      "\n",
      "Tit   = total number of iterations\n",
      "Tnf   = total number of function evaluations\n",
      "Tnint = total number of segments explored during Cauchy searches\n",
      "Skip  = number of BFGS updates skipped\n",
      "Nact  = number of active bounds at final generalized Cauchy point\n",
      "Projg = norm of the final projected gradient\n",
      "F     = final function value\n",
      "\n",
      "           * * *\n",
      "\n",
      "   N    Tit     Tnf  Tnint  Skip  Nact     Projg        F\n",
      "    7     50     65      1     0     0   1.235D-02   6.766D+00\n",
      "  F =   6.7660780807144958     \n",
      "\n",
      "STOP: TOTAL NO. of ITERATIONS REACHED LIMIT                 \n",
      "MSE: 2619273.03\n"
     ]
    }
   ],
   "source": [
    "# Re-fit the SARIMAX model with tuned parameters\n",
    "model = SARIMAX(train_data['death_counts'],\n",
    "                exog=train_data[['inflation_rate', 'unemploy_rate']],\n",
    "                order=best_order,\n",
    "                seasonal_order=best_seasonal_order)\n",
    "results = model.fit()\n",
    "\n",
    "# Forecast for the test set\n",
    "forecast = results.get_forecast(steps=len(test_data), exog=test_data[['inflation_rate', 'unemploy_rate']])\n",
    "forecast_mean = forecast.predicted_mean\n",
    "\n",
    "# Evaluate\n",
    "from sklearn.metrics import mean_squared_error\n",
    "mse = mean_squared_error(test_data['death_counts'], forecast_mean)\n",
    "print(f'MSE: {mse:.2f}')\n"
   ]
  },
  {
   "cell_type": "code",
   "execution_count": 45,
   "metadata": {},
   "outputs": [
    {
     "data": {
      "image/png": "[encoded data removed]",
      "text/plain": [
       "<Figure size 1000x600 with 1 Axes>"
      ]
     },
     "metadata": {},
     "output_type": "display_data"
    }
   ],
   "source": [
    "plt.figure(figsize=(10, 6))\n",
    "plt.plot(train_data.index, train_data['death_counts'], label='Training Data')\n",
    "plt.plot(test_data.index, test_data['death_counts'], label='Test Data')\n",
    "plt.plot(forecast_mean.index, forecast_mean, label='Forecast', color='orange')\n",
    "plt.fill_between(forecast_mean.index, \n",
    "                 forecast.conf_int().iloc[:, 0], \n",
    "                 forecast.conf_int().iloc[:, 1], \n",
    "                 color='orange', alpha=0.2)\n",
    "plt.legend()\n",
    "plt.title('SARIMAX Model Forecast')\n",
    "plt.xlabel('Date')\n",
    "plt.ylabel('Death Counts')\n",
    "plt.grid(True)\n",
    "plt.show()\n",
    "\n"
   ]
  },
  {
   "cell_type": "code",
   "execution_count": 46,
   "metadata": {},
   "outputs": [
    {
     "name": "stdout",
     "output_type": "stream",
     "text": [
      "Mean Squared Error (MSE): 2619273.033454497\n",
      "Mean Absolute Error (MAE): 1353.267404206283\n"
     ]
    }
   ],
   "source": [
    "# Calculating MAE\n",
    "mse = mean_squared_error(test_data['death_counts'], forecast_mean)\n",
    "mae = mean_absolute_error(test_data['death_counts'], forecast_mean)\n",
    "\n",
    "print(f'Mean Squared Error (MSE): {mse}')\n",
    "print(f'Mean Absolute Error (MAE): {mae}')\n"
   ]
  },
  {
   "cell_type": "code",
   "execution_count": 47,
   "metadata": {},
   "outputs": [
    {
     "name": "stdout",
     "output_type": "stream",
     "text": [
      "MAE Percentage Error: 9.40%\n"
     ]
    }
   ],
   "source": [
    "mean_death_counts = test_data['death_counts'].mean()\n",
    "percentage_error = (mae / mean_death_counts) * 100\n",
    "print(f'MAE Percentage Error: {percentage_error:.2f}%')\n"
   ]
  },
  {
   "cell_type": "markdown",
   "metadata": {},
   "source": [
    "MAE < 10% of the mean of the target variable is generally considered good.\n",
    "For forecasting tasks (like predicting deaths), error metrics such as MAE and MSE are generally more important because they directly quantify the prediction error."
   ]
  },
  {
   "cell_type": "code",
   "execution_count": 48,
   "metadata": {},
   "outputs": [
    {
     "name": "stdout",
     "output_type": "stream",
     "text": [
      "R² Score: -0.4849\n"
     ]
    }
   ],
   "source": [
    "# Calculate R² score\n",
    "r2 = r2_score(test_data['death_counts'], forecast_mean)\n",
    "print(f'R² Score: {r2:.4f}')\n"
   ]
  },
  {
   "cell_type": "markdown",
   "metadata": {},
   "source": [
    "Conclusion: \n",
    "For forecasting problems, MAE is sufficient to evaluate the model's performance and make decisions.\n",
    "R2 is used as a secondary metric if you want to compare models or explain variance for stakeholders.\n"
   ]
  },
  {
   "cell_type": "markdown",
   "metadata": {},
   "source": [
    "# 2: Machine Learning\n",
    "Use Random Forest or Gradient Boosting models for supervised learning:"
   ]
  },
  {
   "cell_type": "code",
   "execution_count": 49,
   "metadata": {},
   "outputs": [
    {
     "name": "stdout",
     "output_type": "stream",
     "text": [
      "MSE: 1102988.18\n",
      "MAE: 780.68\n",
      "R²: 0.3747\n"
     ]
    }
   ],
   "source": [
    "from sklearn.ensemble import RandomForestRegressor\n",
    "from sklearn.metrics import mean_squared_error, mean_absolute_error, r2_score\n",
    "\n",
    "# Train Random Forest model\n",
    "rf_model = RandomForestRegressor(random_state=42)\n",
    "rf_model.fit(X_train, y_train)\n",
    "\n",
    "# Predict\n",
    "y_pred = rf_model.predict(X_test)\n",
    "\n",
    "# Evaluate\n",
    "mse = mean_squared_error(y_test, y_pred)\n",
    "mae = mean_absolute_error(y_test, y_pred)\n",
    "r2 = r2_score(y_test, y_pred)\n",
    "\n",
    "print(f'MSE: {mse:.2f}')\n",
    "print(f'MAE: {mae:.2f}')\n",
    "print(f'R²: {r2:.4f}')\n",
    "\n"
   ]
  },
  {
   "cell_type": "code",
   "execution_count": 50,
   "metadata": {},
   "outputs": [
    {
     "name": "stdout",
     "output_type": "stream",
     "text": [
      "MAE Percentage Error: 5.42%\n"
     ]
    }
   ],
   "source": [
    "percentage_error = (mae/ mean_death_counts) * 100\n",
    "print(f'MAE Percentage Error: {percentage_error:.2f}%')"
   ]
  },
  {
   "cell_type": "markdown",
   "metadata": {},
   "source": [
    "# Comparing both Models"
   ]
  },
  {
   "cell_type": "code",
   "execution_count": 51,
   "metadata": {},
   "outputs": [
    {
     "data": {
      "image/png": "[encoded data removed]",
      "text/plain": [
       "<Figure size 1200x600 with 1 Axes>"
      ]
     },
     "metadata": {},
     "output_type": "display_data"
    }
   ],
   "source": [
    "import matplotlib.dates as mdates\n",
    "\n",
    "# Visualizing predictions for SARIMAX and Random Forest\n",
    "plt.figure(figsize=(12, 6))\n",
    "\n",
    "# Plot actual values\n",
    "plt.plot(test_data['date'], y_test, label='Actual Death Counts', color='black')\n",
    "\n",
    "# Plot SARIMAX predictions\n",
    "plt.plot(test_data['date'], forecast_mean, label='SARIMAX Predictions', color='orange', linestyle='--')\n",
    "\n",
    "# Plot Random Forest predictions\n",
    "plt.plot(test_data['date'], y_pred, label='Random Forest Predictions', color='blue', linestyle='--')\n",
    "\n",
    "# Add labels, title, and legend\n",
    "plt.title('Comparison of SARIMAX and Random Forest Predictions', fontsize=14)\n",
    "plt.xlabel('Date', fontsize=12)\n",
    "plt.ylabel('Death Counts', fontsize=12)\n",
    "plt.legend()\n",
    "\n",
    "# Format the x-axis for dates\n",
    "plt.gca().xaxis.set_major_formatter(mdates.DateFormatter('%Y-%m'))  \n",
    "plt.gca().xaxis.set_major_locator(mdates.YearLocator()) \n",
    "plt.gcf().autofmt_xdate()  \n",
    "\n",
    "\n",
    "plt.grid(True)\n",
    "plt.show()"
   ]
  },
  {
   "cell_type": "markdown",
   "metadata": {},
   "source": [
    "## References\n",
    "\n",
    "1. 2025 ICD-10-CM Codes I00-I99: Diseases of the circulatory system. (n.d.). Retrieved from https://www.icd10data.com/ICD10CM/Codes/I00-I99\n"
   ]
  },
  {
   "cell_type": "markdown",
   "metadata": {},
   "source": []
  }
 ],
 "metadata": {
  "kernelspec": {
   "display_name": "Python 3",
   "language": "python",
   "name": "python3"
  },
  "language_info": {
   "codemirror_mode": {
    "name": "ipython",
    "version": 3
   },
   "file_extension": ".py",
   "mimetype": "text/x-python",
   "name": "python",
   "nbconvert_exporter": "python",
   "pygments_lexer": "ipython3",
   "version": "3.11.4"
  }
 },
 "nbformat": 4,
 "nbformat_minor": 2
}
